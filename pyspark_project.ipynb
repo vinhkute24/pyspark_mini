{
  "nbformat": 4,
  "nbformat_minor": 0,
  "metadata": {
    "colab": {
      "provenance": [],
      "gpuType": "T4"
    },
    "kernelspec": {
      "name": "python3",
      "display_name": "Python 3"
    },
    "language_info": {
      "name": "python"
    },
    "accelerator": "GPU"
  },
  "cells": [
    {
      "cell_type": "code",
      "execution_count": 2,
      "metadata": {
        "id": "Dxa_s-C7qUyG"
      },
      "outputs": [],
      "source": [
        "import numpy as np\n",
        "import pandas as pd\n",
        "import matplotlib.pyplot as plt\n"
      ]
    },
    {
      "cell_type": "code",
      "source": [
        "from google.colab import drive\n",
        "drive.mount('/content/drive')"
      ],
      "metadata": {
        "colab": {
          "base_uri": "https://localhost:8080/"
        },
        "id": "GJ9GyiHEq-dy",
        "outputId": "941ef18f-c382-44a2-e186-d01bba5c1d15"
      },
      "execution_count": 3,
      "outputs": [
        {
          "output_type": "stream",
          "name": "stdout",
          "text": [
            "Mounted at /content/drive\n"
          ]
        }
      ]
    },
    {
      "cell_type": "code",
      "source": [
        "\n",
        "read_file = pd.read_excel('/content/drive/MyDrive/Online Retail.xlsx')\n",
        "read_file.to_csv('/content/drive/MyDrive/Online Retail.csv', index = None, header =True)\n",
        "df = pd.DataFrame(pd.read_csv(\"/content/drive/MyDrive/Online Retail.csv\"))\n",
        "df.head(10)"
      ],
      "metadata": {
        "id": "eTcK6bCmrA5R",
        "colab": {
          "base_uri": "https://localhost:8080/",
          "height": 363
        },
        "outputId": "b3e8610e-138f-437d-f06f-7090f2a7f375"
      },
      "execution_count": 4,
      "outputs": [
        {
          "output_type": "execute_result",
          "data": {
            "text/plain": [
              "  InvoiceNo StockCode                          Description  Quantity  \\\n",
              "0    536365    85123A   WHITE HANGING HEART T-LIGHT HOLDER         6   \n",
              "1    536365     71053                  WHITE METAL LANTERN         6   \n",
              "2    536365    84406B       CREAM CUPID HEARTS COAT HANGER         8   \n",
              "3    536365    84029G  KNITTED UNION FLAG HOT WATER BOTTLE         6   \n",
              "4    536365    84029E       RED WOOLLY HOTTIE WHITE HEART.         6   \n",
              "5    536365     22752         SET 7 BABUSHKA NESTING BOXES         2   \n",
              "6    536365     21730    GLASS STAR FROSTED T-LIGHT HOLDER         6   \n",
              "7    536366     22633               HAND WARMER UNION JACK         6   \n",
              "8    536366     22632            HAND WARMER RED POLKA DOT         6   \n",
              "9    536367     84879        ASSORTED COLOUR BIRD ORNAMENT        32   \n",
              "\n",
              "           InvoiceDate  UnitPrice  CustomerID         Country  \n",
              "0  2010-12-01 08:26:00       2.55     17850.0  United Kingdom  \n",
              "1  2010-12-01 08:26:00       3.39     17850.0  United Kingdom  \n",
              "2  2010-12-01 08:26:00       2.75     17850.0  United Kingdom  \n",
              "3  2010-12-01 08:26:00       3.39     17850.0  United Kingdom  \n",
              "4  2010-12-01 08:26:00       3.39     17850.0  United Kingdom  \n",
              "5  2010-12-01 08:26:00       7.65     17850.0  United Kingdom  \n",
              "6  2010-12-01 08:26:00       4.25     17850.0  United Kingdom  \n",
              "7  2010-12-01 08:28:00       1.85     17850.0  United Kingdom  \n",
              "8  2010-12-01 08:28:00       1.85     17850.0  United Kingdom  \n",
              "9  2010-12-01 08:34:00       1.69     13047.0  United Kingdom  "
            ],
            "text/html": [
              "\n",
              "  <div id=\"df-27fb68a3-6758-4d61-bc16-6b3328ec4ee1\" class=\"colab-df-container\">\n",
              "    <div>\n",
              "<style scoped>\n",
              "    .dataframe tbody tr th:only-of-type {\n",
              "        vertical-align: middle;\n",
              "    }\n",
              "\n",
              "    .dataframe tbody tr th {\n",
              "        vertical-align: top;\n",
              "    }\n",
              "\n",
              "    .dataframe thead th {\n",
              "        text-align: right;\n",
              "    }\n",
              "</style>\n",
              "<table border=\"1\" class=\"dataframe\">\n",
              "  <thead>\n",
              "    <tr style=\"text-align: right;\">\n",
              "      <th></th>\n",
              "      <th>InvoiceNo</th>\n",
              "      <th>StockCode</th>\n",
              "      <th>Description</th>\n",
              "      <th>Quantity</th>\n",
              "      <th>InvoiceDate</th>\n",
              "      <th>UnitPrice</th>\n",
              "      <th>CustomerID</th>\n",
              "      <th>Country</th>\n",
              "    </tr>\n",
              "  </thead>\n",
              "  <tbody>\n",
              "    <tr>\n",
              "      <th>0</th>\n",
              "      <td>536365</td>\n",
              "      <td>85123A</td>\n",
              "      <td>WHITE HANGING HEART T-LIGHT HOLDER</td>\n",
              "      <td>6</td>\n",
              "      <td>2010-12-01 08:26:00</td>\n",
              "      <td>2.55</td>\n",
              "      <td>17850.0</td>\n",
              "      <td>United Kingdom</td>\n",
              "    </tr>\n",
              "    <tr>\n",
              "      <th>1</th>\n",
              "      <td>536365</td>\n",
              "      <td>71053</td>\n",
              "      <td>WHITE METAL LANTERN</td>\n",
              "      <td>6</td>\n",
              "      <td>2010-12-01 08:26:00</td>\n",
              "      <td>3.39</td>\n",
              "      <td>17850.0</td>\n",
              "      <td>United Kingdom</td>\n",
              "    </tr>\n",
              "    <tr>\n",
              "      <th>2</th>\n",
              "      <td>536365</td>\n",
              "      <td>84406B</td>\n",
              "      <td>CREAM CUPID HEARTS COAT HANGER</td>\n",
              "      <td>8</td>\n",
              "      <td>2010-12-01 08:26:00</td>\n",
              "      <td>2.75</td>\n",
              "      <td>17850.0</td>\n",
              "      <td>United Kingdom</td>\n",
              "    </tr>\n",
              "    <tr>\n",
              "      <th>3</th>\n",
              "      <td>536365</td>\n",
              "      <td>84029G</td>\n",
              "      <td>KNITTED UNION FLAG HOT WATER BOTTLE</td>\n",
              "      <td>6</td>\n",
              "      <td>2010-12-01 08:26:00</td>\n",
              "      <td>3.39</td>\n",
              "      <td>17850.0</td>\n",
              "      <td>United Kingdom</td>\n",
              "    </tr>\n",
              "    <tr>\n",
              "      <th>4</th>\n",
              "      <td>536365</td>\n",
              "      <td>84029E</td>\n",
              "      <td>RED WOOLLY HOTTIE WHITE HEART.</td>\n",
              "      <td>6</td>\n",
              "      <td>2010-12-01 08:26:00</td>\n",
              "      <td>3.39</td>\n",
              "      <td>17850.0</td>\n",
              "      <td>United Kingdom</td>\n",
              "    </tr>\n",
              "    <tr>\n",
              "      <th>5</th>\n",
              "      <td>536365</td>\n",
              "      <td>22752</td>\n",
              "      <td>SET 7 BABUSHKA NESTING BOXES</td>\n",
              "      <td>2</td>\n",
              "      <td>2010-12-01 08:26:00</td>\n",
              "      <td>7.65</td>\n",
              "      <td>17850.0</td>\n",
              "      <td>United Kingdom</td>\n",
              "    </tr>\n",
              "    <tr>\n",
              "      <th>6</th>\n",
              "      <td>536365</td>\n",
              "      <td>21730</td>\n",
              "      <td>GLASS STAR FROSTED T-LIGHT HOLDER</td>\n",
              "      <td>6</td>\n",
              "      <td>2010-12-01 08:26:00</td>\n",
              "      <td>4.25</td>\n",
              "      <td>17850.0</td>\n",
              "      <td>United Kingdom</td>\n",
              "    </tr>\n",
              "    <tr>\n",
              "      <th>7</th>\n",
              "      <td>536366</td>\n",
              "      <td>22633</td>\n",
              "      <td>HAND WARMER UNION JACK</td>\n",
              "      <td>6</td>\n",
              "      <td>2010-12-01 08:28:00</td>\n",
              "      <td>1.85</td>\n",
              "      <td>17850.0</td>\n",
              "      <td>United Kingdom</td>\n",
              "    </tr>\n",
              "    <tr>\n",
              "      <th>8</th>\n",
              "      <td>536366</td>\n",
              "      <td>22632</td>\n",
              "      <td>HAND WARMER RED POLKA DOT</td>\n",
              "      <td>6</td>\n",
              "      <td>2010-12-01 08:28:00</td>\n",
              "      <td>1.85</td>\n",
              "      <td>17850.0</td>\n",
              "      <td>United Kingdom</td>\n",
              "    </tr>\n",
              "    <tr>\n",
              "      <th>9</th>\n",
              "      <td>536367</td>\n",
              "      <td>84879</td>\n",
              "      <td>ASSORTED COLOUR BIRD ORNAMENT</td>\n",
              "      <td>32</td>\n",
              "      <td>2010-12-01 08:34:00</td>\n",
              "      <td>1.69</td>\n",
              "      <td>13047.0</td>\n",
              "      <td>United Kingdom</td>\n",
              "    </tr>\n",
              "  </tbody>\n",
              "</table>\n",
              "</div>\n",
              "    <div class=\"colab-df-buttons\">\n",
              "\n",
              "  <div class=\"colab-df-container\">\n",
              "    <button class=\"colab-df-convert\" onclick=\"convertToInteractive('df-27fb68a3-6758-4d61-bc16-6b3328ec4ee1')\"\n",
              "            title=\"Convert this dataframe to an interactive table.\"\n",
              "            style=\"display:none;\">\n",
              "\n",
              "  <svg xmlns=\"http://www.w3.org/2000/svg\" height=\"24px\" viewBox=\"0 -960 960 960\">\n",
              "    <path d=\"M120-120v-720h720v720H120Zm60-500h600v-160H180v160Zm220 220h160v-160H400v160Zm0 220h160v-160H400v160ZM180-400h160v-160H180v160Zm440 0h160v-160H620v160ZM180-180h160v-160H180v160Zm440 0h160v-160H620v160Z\"/>\n",
              "  </svg>\n",
              "    </button>\n",
              "\n",
              "  <style>\n",
              "    .colab-df-container {\n",
              "      display:flex;\n",
              "      gap: 12px;\n",
              "    }\n",
              "\n",
              "    .colab-df-convert {\n",
              "      background-color: #E8F0FE;\n",
              "      border: none;\n",
              "      border-radius: 50%;\n",
              "      cursor: pointer;\n",
              "      display: none;\n",
              "      fill: #1967D2;\n",
              "      height: 32px;\n",
              "      padding: 0 0 0 0;\n",
              "      width: 32px;\n",
              "    }\n",
              "\n",
              "    .colab-df-convert:hover {\n",
              "      background-color: #E2EBFA;\n",
              "      box-shadow: 0px 1px 2px rgba(60, 64, 67, 0.3), 0px 1px 3px 1px rgba(60, 64, 67, 0.15);\n",
              "      fill: #174EA6;\n",
              "    }\n",
              "\n",
              "    .colab-df-buttons div {\n",
              "      margin-bottom: 4px;\n",
              "    }\n",
              "\n",
              "    [theme=dark] .colab-df-convert {\n",
              "      background-color: #3B4455;\n",
              "      fill: #D2E3FC;\n",
              "    }\n",
              "\n",
              "    [theme=dark] .colab-df-convert:hover {\n",
              "      background-color: #434B5C;\n",
              "      box-shadow: 0px 1px 3px 1px rgba(0, 0, 0, 0.15);\n",
              "      filter: drop-shadow(0px 1px 2px rgba(0, 0, 0, 0.3));\n",
              "      fill: #FFFFFF;\n",
              "    }\n",
              "  </style>\n",
              "\n",
              "    <script>\n",
              "      const buttonEl =\n",
              "        document.querySelector('#df-27fb68a3-6758-4d61-bc16-6b3328ec4ee1 button.colab-df-convert');\n",
              "      buttonEl.style.display =\n",
              "        google.colab.kernel.accessAllowed ? 'block' : 'none';\n",
              "\n",
              "      async function convertToInteractive(key) {\n",
              "        const element = document.querySelector('#df-27fb68a3-6758-4d61-bc16-6b3328ec4ee1');\n",
              "        const dataTable =\n",
              "          await google.colab.kernel.invokeFunction('convertToInteractive',\n",
              "                                                    [key], {});\n",
              "        if (!dataTable) return;\n",
              "\n",
              "        const docLinkHtml = 'Like what you see? Visit the ' +\n",
              "          '<a target=\"_blank\" href=https://colab.research.google.com/notebooks/data_table.ipynb>data table notebook</a>'\n",
              "          + ' to learn more about interactive tables.';\n",
              "        element.innerHTML = '';\n",
              "        dataTable['output_type'] = 'display_data';\n",
              "        await google.colab.output.renderOutput(dataTable, element);\n",
              "        const docLink = document.createElement('div');\n",
              "        docLink.innerHTML = docLinkHtml;\n",
              "        element.appendChild(docLink);\n",
              "      }\n",
              "    </script>\n",
              "  </div>\n",
              "\n",
              "\n",
              "<div id=\"df-33358484-a80a-44e5-8383-547ac737b512\">\n",
              "  <button class=\"colab-df-quickchart\" onclick=\"quickchart('df-33358484-a80a-44e5-8383-547ac737b512')\"\n",
              "            title=\"Suggest charts\"\n",
              "            style=\"display:none;\">\n",
              "\n",
              "<svg xmlns=\"http://www.w3.org/2000/svg\" height=\"24px\"viewBox=\"0 0 24 24\"\n",
              "     width=\"24px\">\n",
              "    <g>\n",
              "        <path d=\"M19 3H5c-1.1 0-2 .9-2 2v14c0 1.1.9 2 2 2h14c1.1 0 2-.9 2-2V5c0-1.1-.9-2-2-2zM9 17H7v-7h2v7zm4 0h-2V7h2v10zm4 0h-2v-4h2v4z\"/>\n",
              "    </g>\n",
              "</svg>\n",
              "  </button>\n",
              "\n",
              "<style>\n",
              "  .colab-df-quickchart {\n",
              "      --bg-color: #E8F0FE;\n",
              "      --fill-color: #1967D2;\n",
              "      --hover-bg-color: #E2EBFA;\n",
              "      --hover-fill-color: #174EA6;\n",
              "      --disabled-fill-color: #AAA;\n",
              "      --disabled-bg-color: #DDD;\n",
              "  }\n",
              "\n",
              "  [theme=dark] .colab-df-quickchart {\n",
              "      --bg-color: #3B4455;\n",
              "      --fill-color: #D2E3FC;\n",
              "      --hover-bg-color: #434B5C;\n",
              "      --hover-fill-color: #FFFFFF;\n",
              "      --disabled-bg-color: #3B4455;\n",
              "      --disabled-fill-color: #666;\n",
              "  }\n",
              "\n",
              "  .colab-df-quickchart {\n",
              "    background-color: var(--bg-color);\n",
              "    border: none;\n",
              "    border-radius: 50%;\n",
              "    cursor: pointer;\n",
              "    display: none;\n",
              "    fill: var(--fill-color);\n",
              "    height: 32px;\n",
              "    padding: 0;\n",
              "    width: 32px;\n",
              "  }\n",
              "\n",
              "  .colab-df-quickchart:hover {\n",
              "    background-color: var(--hover-bg-color);\n",
              "    box-shadow: 0 1px 2px rgba(60, 64, 67, 0.3), 0 1px 3px 1px rgba(60, 64, 67, 0.15);\n",
              "    fill: var(--button-hover-fill-color);\n",
              "  }\n",
              "\n",
              "  .colab-df-quickchart-complete:disabled,\n",
              "  .colab-df-quickchart-complete:disabled:hover {\n",
              "    background-color: var(--disabled-bg-color);\n",
              "    fill: var(--disabled-fill-color);\n",
              "    box-shadow: none;\n",
              "  }\n",
              "\n",
              "  .colab-df-spinner {\n",
              "    border: 2px solid var(--fill-color);\n",
              "    border-color: transparent;\n",
              "    border-bottom-color: var(--fill-color);\n",
              "    animation:\n",
              "      spin 1s steps(1) infinite;\n",
              "  }\n",
              "\n",
              "  @keyframes spin {\n",
              "    0% {\n",
              "      border-color: transparent;\n",
              "      border-bottom-color: var(--fill-color);\n",
              "      border-left-color: var(--fill-color);\n",
              "    }\n",
              "    20% {\n",
              "      border-color: transparent;\n",
              "      border-left-color: var(--fill-color);\n",
              "      border-top-color: var(--fill-color);\n",
              "    }\n",
              "    30% {\n",
              "      border-color: transparent;\n",
              "      border-left-color: var(--fill-color);\n",
              "      border-top-color: var(--fill-color);\n",
              "      border-right-color: var(--fill-color);\n",
              "    }\n",
              "    40% {\n",
              "      border-color: transparent;\n",
              "      border-right-color: var(--fill-color);\n",
              "      border-top-color: var(--fill-color);\n",
              "    }\n",
              "    60% {\n",
              "      border-color: transparent;\n",
              "      border-right-color: var(--fill-color);\n",
              "    }\n",
              "    80% {\n",
              "      border-color: transparent;\n",
              "      border-right-color: var(--fill-color);\n",
              "      border-bottom-color: var(--fill-color);\n",
              "    }\n",
              "    90% {\n",
              "      border-color: transparent;\n",
              "      border-bottom-color: var(--fill-color);\n",
              "    }\n",
              "  }\n",
              "</style>\n",
              "\n",
              "  <script>\n",
              "    async function quickchart(key) {\n",
              "      const quickchartButtonEl =\n",
              "        document.querySelector('#' + key + ' button');\n",
              "      quickchartButtonEl.disabled = true;  // To prevent multiple clicks.\n",
              "      quickchartButtonEl.classList.add('colab-df-spinner');\n",
              "      try {\n",
              "        const charts = await google.colab.kernel.invokeFunction(\n",
              "            'suggestCharts', [key], {});\n",
              "      } catch (error) {\n",
              "        console.error('Error during call to suggestCharts:', error);\n",
              "      }\n",
              "      quickchartButtonEl.classList.remove('colab-df-spinner');\n",
              "      quickchartButtonEl.classList.add('colab-df-quickchart-complete');\n",
              "    }\n",
              "    (() => {\n",
              "      let quickchartButtonEl =\n",
              "        document.querySelector('#df-33358484-a80a-44e5-8383-547ac737b512 button');\n",
              "      quickchartButtonEl.style.display =\n",
              "        google.colab.kernel.accessAllowed ? 'block' : 'none';\n",
              "    })();\n",
              "  </script>\n",
              "</div>\n",
              "\n",
              "    </div>\n",
              "  </div>\n"
            ],
            "application/vnd.google.colaboratory.intrinsic+json": {
              "type": "dataframe",
              "variable_name": "df"
            }
          },
          "metadata": {},
          "execution_count": 4
        }
      ]
    },
    {
      "cell_type": "code",
      "source": [
        "!pip install pyspark"
      ],
      "metadata": {
        "colab": {
          "base_uri": "https://localhost:8080/"
        },
        "id": "-5VV__fsrCWS",
        "outputId": "5378bf12-cf17-42c1-f0f3-e19fe2e90aec"
      },
      "execution_count": 5,
      "outputs": [
        {
          "output_type": "stream",
          "name": "stdout",
          "text": [
            "Collecting pyspark\n",
            "  Downloading pyspark-3.5.1.tar.gz (317.0 MB)\n",
            "\u001b[2K     \u001b[90m━━━━━━━━━━━━━━━━━━━━━━━━━━━━━━━━━━━━━━━━\u001b[0m \u001b[32m317.0/317.0 MB\u001b[0m \u001b[31m2.7 MB/s\u001b[0m eta \u001b[36m0:00:00\u001b[0m\n",
            "\u001b[?25h  Preparing metadata (setup.py) ... \u001b[?25l\u001b[?25hdone\n",
            "Requirement already satisfied: py4j==0.10.9.7 in /usr/local/lib/python3.10/dist-packages (from pyspark) (0.10.9.7)\n",
            "Building wheels for collected packages: pyspark\n",
            "  Building wheel for pyspark (setup.py) ... \u001b[?25l\u001b[?25hdone\n",
            "  Created wheel for pyspark: filename=pyspark-3.5.1-py2.py3-none-any.whl size=317488493 sha256=6ee0e532777ed43926103e95e24f3f46f561d177b55d828c09116c0d7995ac86\n",
            "  Stored in directory: /root/.cache/pip/wheels/80/1d/60/2c256ed38dddce2fdd93be545214a63e02fbd8d74fb0b7f3a6\n",
            "Successfully built pyspark\n",
            "Installing collected packages: pyspark\n",
            "Successfully installed pyspark-3.5.1\n"
          ]
        }
      ]
    },
    {
      "cell_type": "markdown",
      "source": [
        "Để bắt đầu các thao tác dữ liệu với PySpark, chúng ta cần khởi tạo session với SparkSession. Nó xây dựng một khung dữ liệu trong PysPark để chúng ta có thể sử dụng các chức năng của PysPark lên dữ liệu của mình"
      ],
      "metadata": {
        "id": "5aT6NfKzGZSq"
      }
    },
    {
      "cell_type": "code",
      "source": [
        "import pyspark\n",
        "from pyspark.sql import SparkSession\n",
        "# Init SparkSession\n",
        "spark = SparkSession.builder.appName(\"Pyspark Tutorial\").config(\"spark.memory.offHeap.enabled\",\"true\").config(\"spark.memory.offHeap.size\",\"10g\").getOrCreate()\n"
      ],
      "metadata": {
        "id": "pMG_7PrArD7J"
      },
      "execution_count": 6,
      "outputs": []
    },
    {
      "cell_type": "code",
      "source": [
        "df= spark.read.csv(\"/content/drive/MyDrive/Online Retail.csv\", header = True, escape = \"\\\"\")\n",
        "df.show(10)"
      ],
      "metadata": {
        "colab": {
          "base_uri": "https://localhost:8080/"
        },
        "id": "40VtgGLCrGP6",
        "outputId": "f66a4a3f-e860-4722-e071-4bc20ace87bf"
      },
      "execution_count": 7,
      "outputs": [
        {
          "output_type": "stream",
          "name": "stdout",
          "text": [
            "+---------+---------+--------------------+--------+-------------------+---------+----------+--------------+\n",
            "|InvoiceNo|StockCode|         Description|Quantity|        InvoiceDate|UnitPrice|CustomerID|       Country|\n",
            "+---------+---------+--------------------+--------+-------------------+---------+----------+--------------+\n",
            "|   536365|   85123A|WHITE HANGING HEA...|       6|2010-12-01 08:26:00|     2.55|   17850.0|United Kingdom|\n",
            "|   536365|    71053| WHITE METAL LANTERN|       6|2010-12-01 08:26:00|     3.39|   17850.0|United Kingdom|\n",
            "|   536365|   84406B|CREAM CUPID HEART...|       8|2010-12-01 08:26:00|     2.75|   17850.0|United Kingdom|\n",
            "|   536365|   84029G|KNITTED UNION FLA...|       6|2010-12-01 08:26:00|     3.39|   17850.0|United Kingdom|\n",
            "|   536365|   84029E|RED WOOLLY HOTTIE...|       6|2010-12-01 08:26:00|     3.39|   17850.0|United Kingdom|\n",
            "|   536365|    22752|SET 7 BABUSHKA NE...|       2|2010-12-01 08:26:00|     7.65|   17850.0|United Kingdom|\n",
            "|   536365|    21730|GLASS STAR FROSTE...|       6|2010-12-01 08:26:00|     4.25|   17850.0|United Kingdom|\n",
            "|   536366|    22633|HAND WARMER UNION...|       6|2010-12-01 08:28:00|     1.85|   17850.0|United Kingdom|\n",
            "|   536366|    22632|HAND WARMER RED P...|       6|2010-12-01 08:28:00|     1.85|   17850.0|United Kingdom|\n",
            "|   536367|    84879|ASSORTED COLOUR B...|      32|2010-12-01 08:34:00|     1.69|   13047.0|United Kingdom|\n",
            "+---------+---------+--------------------+--------+-------------------+---------+----------+--------------+\n",
            "only showing top 10 rows\n",
            "\n"
          ]
        }
      ]
    },
    {
      "cell_type": "code",
      "source": [
        "# Đếm xem có bao nhiêu dòng dữ liệu\n",
        "df.count()\n"
      ],
      "metadata": {
        "id": "NY7EPZFfrHou",
        "colab": {
          "base_uri": "https://localhost:8080/"
        },
        "outputId": "7c814a57-0a47-4a0c-dc0e-ec41334dc12a"
      },
      "execution_count": 8,
      "outputs": [
        {
          "output_type": "execute_result",
          "data": {
            "text/plain": [
              "541909"
            ]
          },
          "metadata": {},
          "execution_count": 8
        }
      ]
    },
    {
      "cell_type": "code",
      "source": [
        "\n",
        "# Có bao nhiêu khách hàng\n",
        "df.select('CustomerID').distinct().count()\n"
      ],
      "metadata": {
        "colab": {
          "base_uri": "https://localhost:8080/"
        },
        "id": "3xjPb2_pHE-1",
        "outputId": "db460b43-2b3a-4bc8-917a-24c246ac3941"
      },
      "execution_count": 9,
      "outputs": [
        {
          "output_type": "execute_result",
          "data": {
            "text/plain": [
              "4373"
            ]
          },
          "metadata": {},
          "execution_count": 9
        }
      ]
    },
    {
      "cell_type": "code",
      "source": [
        "from pyspark.sql.functions import *\n",
        "# Định dạng lại trường dữ liệu ngày tháng thành timestamp để có thể sort, tìm min hoặc max\n",
        "spark.sql(\"set spark.sql.legacy.timeParserPolicy=LEGACY\")\n",
        "df = df.withColumn('date',to_timestamp(\"InvoiceDate\", 'yy-MM-dd HH:mm:ss'))\n"
      ],
      "metadata": {
        "id": "ZB-zFIzlHMN6"
      },
      "execution_count": 10,
      "outputs": []
    },
    {
      "cell_type": "code",
      "source": [
        "# Ngày có đơn hàng gần đây nhất\n",
        "df.select(max(\"date\")).show()\n",
        "# Ngày đầu tiên có đơn hàng\n",
        "df.select(min(\"date\")).show()\n"
      ],
      "metadata": {
        "colab": {
          "base_uri": "https://localhost:8080/"
        },
        "id": "xzdCXmNrJdJi",
        "outputId": "27bb9227-67f8-4390-b084-fc87aff47eab"
      },
      "execution_count": 11,
      "outputs": [
        {
          "output_type": "stream",
          "name": "stdout",
          "text": [
            "+-------------------+\n",
            "|          max(date)|\n",
            "+-------------------+\n",
            "|2011-12-09 12:50:00|\n",
            "+-------------------+\n",
            "\n",
            "+-------------------+\n",
            "|          min(date)|\n",
            "+-------------------+\n",
            "|2010-12-01 08:26:00|\n",
            "+-------------------+\n",
            "\n"
          ]
        }
      ]
    },
    {
      "cell_type": "markdown",
      "source": [
        "# **Recency**\n",
        "Trong phần này, mình sẽ có mục tiêu tính toán ra một giá trị đại diện cho việc thời điểm khách hàng mua lần cuối so với 1 mốc 0 nhất định (ở đây mình chọn mốc 0 là thời gian đầu tiên có đơn hàng đã tính ra bên trên). Sau đó chỉ cần lấy thời gian gần nhất khách hàng đặt đơn trừ đi mốc thời gian đó, ta sẽ có 1 giá trị đại diện cho Recency. Rõ ràng giá trị này càng lớn chứng tỏ khách hàng càng mua gần đây. Việc tính toán này sẽ thông qua 1 số bước như sau"
      ],
      "metadata": {
        "id": "xodfmMXVKYqW"
      }
    },
    {
      "cell_type": "code",
      "source": [
        "df = df.withColumn(\"from_date\", lit(\"2010-12-01 08:26:00\"))\n",
        "df = df.withColumn('from_date',to_timestamp(\"from_date\", 'yy-MM-dd HH:mm'))\n",
        "df2 = df.withColumn('from_date',to_timestamp(col('from_date'))).withColumn('recency',col(\"date\").cast(\"long\") - col('from_date').cast(\"long\"))\n",
        "df2 = df2.join(df2.groupBy('CustomerID').agg(max('recency').alias('recency')),on='recency',how='leftsemi')\n",
        "df.show()"
      ],
      "metadata": {
        "colab": {
          "base_uri": "https://localhost:8080/"
        },
        "id": "dHra8TeMrJOy",
        "outputId": "de052b56-2df3-4054-b3d3-59b5c3005faa"
      },
      "execution_count": 12,
      "outputs": [
        {
          "output_type": "stream",
          "name": "stdout",
          "text": [
            "+---------+---------+--------------------+--------+-------------------+---------+----------+--------------+-------------------+-------------------+\n",
            "|InvoiceNo|StockCode|         Description|Quantity|        InvoiceDate|UnitPrice|CustomerID|       Country|               date|          from_date|\n",
            "+---------+---------+--------------------+--------+-------------------+---------+----------+--------------+-------------------+-------------------+\n",
            "|   536365|   85123A|WHITE HANGING HEA...|       6|2010-12-01 08:26:00|     2.55|   17850.0|United Kingdom|2010-12-01 08:26:00|2010-12-01 08:26:00|\n",
            "|   536365|    71053| WHITE METAL LANTERN|       6|2010-12-01 08:26:00|     3.39|   17850.0|United Kingdom|2010-12-01 08:26:00|2010-12-01 08:26:00|\n",
            "|   536365|   84406B|CREAM CUPID HEART...|       8|2010-12-01 08:26:00|     2.75|   17850.0|United Kingdom|2010-12-01 08:26:00|2010-12-01 08:26:00|\n",
            "|   536365|   84029G|KNITTED UNION FLA...|       6|2010-12-01 08:26:00|     3.39|   17850.0|United Kingdom|2010-12-01 08:26:00|2010-12-01 08:26:00|\n",
            "|   536365|   84029E|RED WOOLLY HOTTIE...|       6|2010-12-01 08:26:00|     3.39|   17850.0|United Kingdom|2010-12-01 08:26:00|2010-12-01 08:26:00|\n",
            "|   536365|    22752|SET 7 BABUSHKA NE...|       2|2010-12-01 08:26:00|     7.65|   17850.0|United Kingdom|2010-12-01 08:26:00|2010-12-01 08:26:00|\n",
            "|   536365|    21730|GLASS STAR FROSTE...|       6|2010-12-01 08:26:00|     4.25|   17850.0|United Kingdom|2010-12-01 08:26:00|2010-12-01 08:26:00|\n",
            "|   536366|    22633|HAND WARMER UNION...|       6|2010-12-01 08:28:00|     1.85|   17850.0|United Kingdom|2010-12-01 08:28:00|2010-12-01 08:26:00|\n",
            "|   536366|    22632|HAND WARMER RED P...|       6|2010-12-01 08:28:00|     1.85|   17850.0|United Kingdom|2010-12-01 08:28:00|2010-12-01 08:26:00|\n",
            "|   536367|    84879|ASSORTED COLOUR B...|      32|2010-12-01 08:34:00|     1.69|   13047.0|United Kingdom|2010-12-01 08:34:00|2010-12-01 08:26:00|\n",
            "|   536367|    22745|POPPY'S PLAYHOUSE...|       6|2010-12-01 08:34:00|      2.1|   13047.0|United Kingdom|2010-12-01 08:34:00|2010-12-01 08:26:00|\n",
            "|   536367|    22748|POPPY'S PLAYHOUSE...|       6|2010-12-01 08:34:00|      2.1|   13047.0|United Kingdom|2010-12-01 08:34:00|2010-12-01 08:26:00|\n",
            "|   536367|    22749|FELTCRAFT PRINCES...|       8|2010-12-01 08:34:00|     3.75|   13047.0|United Kingdom|2010-12-01 08:34:00|2010-12-01 08:26:00|\n",
            "|   536367|    22310|IVORY KNITTED MUG...|       6|2010-12-01 08:34:00|     1.65|   13047.0|United Kingdom|2010-12-01 08:34:00|2010-12-01 08:26:00|\n",
            "|   536367|    84969|BOX OF 6 ASSORTED...|       6|2010-12-01 08:34:00|     4.25|   13047.0|United Kingdom|2010-12-01 08:34:00|2010-12-01 08:26:00|\n",
            "|   536367|    22623|BOX OF VINTAGE JI...|       3|2010-12-01 08:34:00|     4.95|   13047.0|United Kingdom|2010-12-01 08:34:00|2010-12-01 08:26:00|\n",
            "|   536367|    22622|BOX OF VINTAGE AL...|       2|2010-12-01 08:34:00|     9.95|   13047.0|United Kingdom|2010-12-01 08:34:00|2010-12-01 08:26:00|\n",
            "|   536367|    21754|HOME BUILDING BLO...|       3|2010-12-01 08:34:00|     5.95|   13047.0|United Kingdom|2010-12-01 08:34:00|2010-12-01 08:26:00|\n",
            "|   536367|    21755|LOVE BUILDING BLO...|       3|2010-12-01 08:34:00|     5.95|   13047.0|United Kingdom|2010-12-01 08:34:00|2010-12-01 08:26:00|\n",
            "|   536367|    21777|RECIPE BOX WITH M...|       4|2010-12-01 08:34:00|     7.95|   13047.0|United Kingdom|2010-12-01 08:34:00|2010-12-01 08:26:00|\n",
            "+---------+---------+--------------------+--------+-------------------+---------+----------+--------------+-------------------+-------------------+\n",
            "only showing top 20 rows\n",
            "\n"
          ]
        }
      ]
    },
    {
      "cell_type": "markdown",
      "source": [
        "# **Frequency**\n",
        "Phần này thì chúng ta sẽ tính tần suất một khách hàng mua một đồ gì đó. Chúng ta chỉ cần nhóm theo từng ID khách hàng và đếm số mặt hàng họ đã mua"
      ],
      "metadata": {
        "id": "U1Rkqev7JvMg"
      }
    },
    {
      "cell_type": "code",
      "source": [
        "df_freq = df2.groupBy('CustomerID').agg(count('InvoiceNo').alias('frequency'))\n",
        "df_freq.show()"
      ],
      "metadata": {
        "colab": {
          "base_uri": "https://localhost:8080/"
        },
        "id": "Mo1w57rRrLA0",
        "outputId": "6640fd7d-09b8-4244-be7b-02394ff46ee5"
      },
      "execution_count": 13,
      "outputs": [
        {
          "output_type": "stream",
          "name": "stdout",
          "text": [
            "+----------+---------+\n",
            "|CustomerID|frequency|\n",
            "+----------+---------+\n",
            "|   17786.0|       72|\n",
            "|   16917.0|        9|\n",
            "|   15891.0|       62|\n",
            "|   17955.0|        1|\n",
            "|   14542.0|        5|\n",
            "|   12891.0|        1|\n",
            "|   16553.0|        1|\n",
            "|   14532.0|       20|\n",
            "|   17536.0|        3|\n",
            "|   14722.0|       29|\n",
            "|   13827.0|       65|\n",
            "|   17353.0|        4|\n",
            "|   15070.0|        1|\n",
            "|   16351.0|        8|\n",
            "|   18085.0|       20|\n",
            "|   12350.0|       17|\n",
            "|   14727.0|       10|\n",
            "|   16838.0|       11|\n",
            "|   13533.0|       33|\n",
            "|   15016.0|       20|\n",
            "+----------+---------+\n",
            "only showing top 20 rows\n",
            "\n"
          ]
        }
      ]
    },
    {
      "cell_type": "code",
      "source": [
        "df3 = df2.join(df_freq,on='CustomerID',how='inner')\n",
        "df3.show()"
      ],
      "metadata": {
        "colab": {
          "base_uri": "https://localhost:8080/"
        },
        "id": "m49zbONdKQ0_",
        "outputId": "8d51ad43-aa4c-4a10-85c3-84ab81ae4f3d"
      },
      "execution_count": 14,
      "outputs": [
        {
          "output_type": "stream",
          "name": "stdout",
          "text": [
            "+----------+-------+---------+---------+--------------------+--------+-------------------+---------+--------------+-------------------+-------------------+---------+\n",
            "|CustomerID|recency|InvoiceNo|StockCode|         Description|Quantity|        InvoiceDate|UnitPrice|       Country|               date|          from_date|frequency|\n",
            "+----------+-------+---------+---------+--------------------+--------+-------------------+---------+--------------+-------------------+-------------------+---------+\n",
            "|   18074.0|   5220|   536384|    82484|WOOD BLACK BOARD ...|       3|2010-12-01 09:53:00|     6.45|United Kingdom|2010-12-01 09:53:00|2010-12-01 08:26:00|       13|\n",
            "|   18074.0|   5220|   536384|    84755|COLOUR GLASS T-LI...|      48|2010-12-01 09:53:00|     0.65|United Kingdom|2010-12-01 09:53:00|2010-12-01 08:26:00|       13|\n",
            "|   18074.0|   5220|   536384|    22464|HANGING METAL HEA...|      12|2010-12-01 09:53:00|     1.65|United Kingdom|2010-12-01 09:53:00|2010-12-01 08:26:00|       13|\n",
            "|   18074.0|   5220|   536384|    21324|HANGING MEDINA LA...|       6|2010-12-01 09:53:00|     2.95|United Kingdom|2010-12-01 09:53:00|2010-12-01 08:26:00|       13|\n",
            "|   18074.0|   5220|   536384|    22457|NATURAL SLATE HEA...|      12|2010-12-01 09:53:00|     2.95|United Kingdom|2010-12-01 09:53:00|2010-12-01 08:26:00|       13|\n",
            "|   18074.0|   5220|   536384|    22469|HEART OF WICKER S...|      40|2010-12-01 09:53:00|     1.45|United Kingdom|2010-12-01 09:53:00|2010-12-01 08:26:00|       13|\n",
            "|   18074.0|   5220|   536384|    22470|HEART OF WICKER L...|      40|2010-12-01 09:53:00|     2.55|United Kingdom|2010-12-01 09:53:00|2010-12-01 08:26:00|       13|\n",
            "|   18074.0|   5220|   536384|    22224|WHITE LOVEBIRD LA...|       6|2010-12-01 09:53:00|     2.95|United Kingdom|2010-12-01 09:53:00|2010-12-01 08:26:00|       13|\n",
            "|   18074.0|   5220|   536384|    21340|CLASSIC METAL BIR...|       2|2010-12-01 09:53:00|    12.75|United Kingdom|2010-12-01 09:53:00|2010-12-01 08:26:00|       13|\n",
            "|   18074.0|   5220|   536384|    22189|CREAM HEART CARD ...|       4|2010-12-01 09:53:00|     3.95|United Kingdom|2010-12-01 09:53:00|2010-12-01 08:26:00|       13|\n",
            "|   18074.0|   5220|   536384|    22427|ENAMEL FLOWER JUG...|       3|2010-12-01 09:53:00|     5.95|United Kingdom|2010-12-01 09:53:00|2010-12-01 08:26:00|       13|\n",
            "|   18074.0|   5220|   536384|    22428|ENAMEL FIRE BUCKE...|       6|2010-12-01 09:53:00|     6.95|United Kingdom|2010-12-01 09:53:00|2010-12-01 08:26:00|       13|\n",
            "|   18074.0|   5220|   536384|    22424|ENAMEL BREAD BIN ...|       8|2010-12-01 09:53:00|    10.95|United Kingdom|2010-12-01 09:53:00|2010-12-01 08:26:00|       13|\n",
            "|   13747.0|   7860|   536393|    22180|      RETROSPOT LAMP|       8|2010-12-01 10:37:00|     9.95|United Kingdom|2010-12-01 10:37:00|2010-12-01 08:26:00|        1|\n",
            "|   12791.0|  10860|   536403|    22867|HAND WARMER BIRD ...|      96|2010-12-01 11:27:00|     1.85|   Netherlands|2010-12-01 11:27:00|2010-12-01 08:26:00|        2|\n",
            "|   12791.0|  10860|   536403|     POST|             POSTAGE|       1|2010-12-01 11:27:00|     15.0|   Netherlands|2010-12-01 11:27:00|2010-12-01 08:26:00|        2|\n",
            "|   17908.0|  11940|   536409|   90199C|5 STRAND GLASS NE...|       3|2010-12-01 11:45:00|     6.35|United Kingdom|2010-12-01 11:45:00|2010-12-01 08:26:00|       58|\n",
            "|   17908.0|  11940|   536409|    21479|WHITE SKULL HOT W...|       1|2010-12-01 11:45:00|     3.75|United Kingdom|2010-12-01 11:45:00|2010-12-01 08:26:00|       58|\n",
            "|   17908.0|  11940|   536409|    22111|SCOTTIE DOG HOT W...|       1|2010-12-01 11:45:00|     4.95|United Kingdom|2010-12-01 11:45:00|2010-12-01 08:26:00|       58|\n",
            "|   17908.0|  11940|   536409|    22785|SQUARECUSHION COV...|       1|2010-12-01 11:45:00|     6.75|United Kingdom|2010-12-01 11:45:00|2010-12-01 08:26:00|       58|\n",
            "+----------+-------+---------+---------+--------------------+--------+-------------------+---------+--------------+-------------------+-------------------+---------+\n",
            "only showing top 20 rows\n",
            "\n"
          ]
        }
      ]
    },
    {
      "cell_type": "markdown",
      "source": [
        "# Monetary\n",
        "Phần này tính xem mỗi khách hàng đã chi bao nhiêu tiền để mua sắm"
      ],
      "metadata": {
        "id": "XsIxJqObKi9m"
      }
    },
    {
      "cell_type": "code",
      "source": [
        "#Tính số lượng và đơn giá của một lần mua hàng\n",
        "m_val = df3.withColumn('TotalAmount',col(\"Quantity\") * col(\"UnitPrice\"))\n",
        "\n",
        "#Tính tổng số tiền mà khách hàng đã chi\n",
        "m_val = m_val.groupBy('CustomerID').agg(sum('TotalAmount').alias('monetary_value'))\n",
        "m_val.show()"
      ],
      "metadata": {
        "colab": {
          "base_uri": "https://localhost:8080/"
        },
        "id": "MRD9khIxsa0s",
        "outputId": "9208fd87-3785-4719-d54e-1c8ade235222"
      },
      "execution_count": 15,
      "outputs": [
        {
          "output_type": "stream",
          "name": "stdout",
          "text": [
            "+----------+------------------+\n",
            "|CustomerID|    monetary_value|\n",
            "+----------+------------------+\n",
            "|   17786.0|            278.74|\n",
            "|   16917.0| 391.5200000000001|\n",
            "|   15891.0|            524.52|\n",
            "|   17955.0|             163.2|\n",
            "|   14542.0|103.25000000000001|\n",
            "|   12891.0|              85.0|\n",
            "|   16553.0|             204.0|\n",
            "|   14532.0|            140.55|\n",
            "|   17536.0|              76.5|\n",
            "|   14722.0|187.91999999999996|\n",
            "|   13827.0|            299.31|\n",
            "|   17353.0|             870.0|\n",
            "|   15070.0|             106.2|\n",
            "|   16351.0|             153.9|\n",
            "|   18085.0|386.04999999999995|\n",
            "|   12350.0|334.40000000000003|\n",
            "|   14727.0|            268.58|\n",
            "|   16838.0|196.73000000000002|\n",
            "|   13533.0|124.14999999999999|\n",
            "|   15016.0|            170.04|\n",
            "+----------+------------------+\n",
            "only showing top 20 rows\n",
            "\n"
          ]
        }
      ]
    },
    {
      "cell_type": "code",
      "source": [
        "final_df = m_val.join(df3,on='CustomerID',how='inner')\n",
        "final_df.show()"
      ],
      "metadata": {
        "colab": {
          "base_uri": "https://localhost:8080/"
        },
        "id": "bRoofIBbK2rx",
        "outputId": "4364628e-7c6d-4ca5-ef13-96dbd7ea4017"
      },
      "execution_count": 16,
      "outputs": [
        {
          "output_type": "stream",
          "name": "stdout",
          "text": [
            "+----------+--------------+-------+---------+---------+--------------------+--------+-------------------+---------+--------------+-------------------+-------------------+---------+\n",
            "|CustomerID|monetary_value|recency|InvoiceNo|StockCode|         Description|Quantity|        InvoiceDate|UnitPrice|       Country|               date|          from_date|frequency|\n",
            "+----------+--------------+-------+---------+---------+--------------------+--------+-------------------+---------+--------------+-------------------+-------------------+---------+\n",
            "|   17786.0|        278.74|4860540|   542239|    21166|COOK WITH WINE ME...|       3|2011-01-26 14:35:00|     1.95|United Kingdom|2011-01-26 14:35:00|2010-12-01 08:26:00|       72|\n",
            "|   17786.0|        278.74|4860540|   542239|    21181|PLEASE ONE PERSON...|       2|2011-01-26 14:35:00|      2.1|United Kingdom|2011-01-26 14:35:00|2010-12-01 08:26:00|       72|\n",
            "|   17786.0|        278.74|4860540|   542239|    85150|LADIES & GENTLEME...|       1|2011-01-26 14:35:00|     2.55|United Kingdom|2011-01-26 14:35:00|2010-12-01 08:26:00|       72|\n",
            "|   17786.0|        278.74|4860540|   542239|    85152|HAND OVER THE CHO...|       3|2011-01-26 14:35:00|      2.1|United Kingdom|2011-01-26 14:35:00|2010-12-01 08:26:00|       72|\n",
            "|   17786.0|        278.74|4860540|   542239|    21908|CHOCOLATE THIS WA...|       1|2011-01-26 14:35:00|      2.1|United Kingdom|2011-01-26 14:35:00|2010-12-01 08:26:00|       72|\n",
            "|   17786.0|        278.74|4860540|   542239|    22413|METAL SIGN TAKE I...|       1|2011-01-26 14:35:00|     2.95|United Kingdom|2011-01-26 14:35:00|2010-12-01 08:26:00|       72|\n",
            "|   17786.0|        278.74|4860540|   542239|   85123A|WHITE HANGING HEA...|       2|2011-01-26 14:35:00|     2.95|United Kingdom|2011-01-26 14:35:00|2010-12-01 08:26:00|       72|\n",
            "|   17786.0|        278.74|4860540|   542239|    22189|CREAM HEART CARD ...|       1|2011-01-26 14:35:00|     3.95|United Kingdom|2011-01-26 14:35:00|2010-12-01 08:26:00|       72|\n",
            "|   17786.0|        278.74|4860540|   542239|    22349|DOG BOWL CHASING ...|       1|2011-01-26 14:35:00|     3.75|United Kingdom|2011-01-26 14:35:00|2010-12-01 08:26:00|       72|\n",
            "|   17786.0|        278.74|4860540|   542239|    22627| MINT KITCHEN SCALES|       1|2011-01-26 14:35:00|      8.5|United Kingdom|2011-01-26 14:35:00|2010-12-01 08:26:00|       72|\n",
            "|   17786.0|        278.74|4860540|   542239|    22464|HANGING METAL HEA...|       1|2011-01-26 14:35:00|     1.65|United Kingdom|2011-01-26 14:35:00|2010-12-01 08:26:00|       72|\n",
            "|   17786.0|        278.74|4860540|   542239|    22625|  RED KITCHEN SCALES|       1|2011-01-26 14:35:00|      8.5|United Kingdom|2011-01-26 14:35:00|2010-12-01 08:26:00|       72|\n",
            "|   17786.0|        278.74|4860540|   542239|   17164B|ASS COL SMALL SAN...|       1|2011-01-26 14:35:00|     0.42|United Kingdom|2011-01-26 14:35:00|2010-12-01 08:26:00|       72|\n",
            "|   17786.0|        278.74|4860540|   542239|   47578A|ENGLISH ROSE SMAL...|       1|2011-01-26 14:35:00|     0.85|United Kingdom|2011-01-26 14:35:00|2010-12-01 08:26:00|       72|\n",
            "|   17786.0|        278.74|4860540|   542239|    21407|BROWN CHECK CAT D...|       1|2011-01-26 14:35:00|     4.25|United Kingdom|2011-01-26 14:35:00|2010-12-01 08:26:00|       72|\n",
            "|   17786.0|        278.74|4860540|   542239|   85040B|SET/4 BLUE FLOWER...|       1|2011-01-26 14:35:00|     1.65|United Kingdom|2011-01-26 14:35:00|2010-12-01 08:26:00|       72|\n",
            "|   17786.0|        278.74|4860540|   542239|    21114|LAVENDER SCENTED ...|      10|2011-01-26 14:35:00|     1.25|United Kingdom|2011-01-26 14:35:00|2010-12-01 08:26:00|       72|\n",
            "|   17786.0|        278.74|4860540|   542239|    22189|CREAM HEART CARD ...|       1|2011-01-26 14:35:00|     3.95|United Kingdom|2011-01-26 14:35:00|2010-12-01 08:26:00|       72|\n",
            "|   17786.0|        278.74|4860540|   542239|    21166|COOK WITH WINE ME...|       1|2011-01-26 14:35:00|     1.95|United Kingdom|2011-01-26 14:35:00|2010-12-01 08:26:00|       72|\n",
            "|   17786.0|        278.74|4860540|   542239|    21174|POTTERING IN THE ...|       1|2011-01-26 14:35:00|     1.95|United Kingdom|2011-01-26 14:35:00|2010-12-01 08:26:00|       72|\n",
            "+----------+--------------+-------+---------+---------+--------------------+--------+-------------------+---------+--------------+-------------------+-------------------+---------+\n",
            "only showing top 20 rows\n",
            "\n"
          ]
        }
      ]
    },
    {
      "cell_type": "code",
      "source": [
        "#final data with 4 truong du lieu\n",
        "final_df = final_df.select(['recency','frequency','monetary_value','CustomerID']).distinct()\n",
        "final_df.show()"
      ],
      "metadata": {
        "colab": {
          "base_uri": "https://localhost:8080/"
        },
        "id": "_P8I9KwEK6jW",
        "outputId": "e6992c48-9b5b-4987-d196-d0146c379304"
      },
      "execution_count": 17,
      "outputs": [
        {
          "output_type": "stream",
          "name": "stdout",
          "text": [
            "+--------+---------+------------------+----------+\n",
            "| recency|frequency|    monetary_value|CustomerID|\n",
            "+--------+---------+------------------+----------+\n",
            "| 4860540|       72|            278.74|   17786.0|\n",
            "| 8393340|        9| 391.5200000000001|   16917.0|\n",
            "|12715740|       62|            524.52|   15891.0|\n",
            "|15132840|        1|             163.2|   17955.0|\n",
            "|16242780|        5|103.25000000000001|   14542.0|\n",
            "|16257900|        1|              85.0|   12891.0|\n",
            "|18170160|        1|             204.0|   16553.0|\n",
            "|11853540|       20|            140.55|   14532.0|\n",
            "|16952220|        3|              76.5|   17536.0|\n",
            "|19549920|       29|187.91999999999996|   14722.0|\n",
            "|20747940|       65|            299.31|   13827.0|\n",
            "|21113580|        4|             870.0|   17353.0|\n",
            "|   97020|        1|             106.2|   15070.0|\n",
            "| 3549600|        8|             153.9|   16351.0|\n",
            "| 3739860|       20|386.04999999999995|   18085.0|\n",
            "| 5470500|       17|334.40000000000003|   12350.0|\n",
            "| 8576340|       10|            268.58|   14727.0|\n",
            "|15223620|       11|196.73000000000002|   16838.0|\n",
            "|16514880|       33|124.14999999999999|   13533.0|\n",
            "|17379600|       20|            170.04|   15016.0|\n",
            "+--------+---------+------------------+----------+\n",
            "only showing top 20 rows\n",
            "\n"
          ]
        }
      ]
    },
    {
      "cell_type": "markdown",
      "source": [
        "# Chuẩn hóa dữ liệu voi pyspark.ml"
      ],
      "metadata": {
        "id": "TJwmimFLLKAj"
      }
    },
    {
      "cell_type": "code",
      "source": [
        "from pyspark.ml.feature import VectorAssembler\n",
        "from pyspark.ml.feature import StandardScaler\n",
        "\n",
        "assemble=VectorAssembler(inputCols=[\n",
        "    'recency','frequency','monetary_value'\n",
        "], outputCol='features')\n",
        "\n",
        "assembled_data=assemble.transform(final_df)\n",
        "\n",
        "scale=StandardScaler(inputCol='features',outputCol='standardized')\n",
        "data_scale=scale.fit(assembled_data)\n",
        "data_scale_output=data_scale.transform(assembled_data)\n",
        "data_scale_output.select(\"standardized\").show(2, truncate = False)"
      ],
      "metadata": {
        "colab": {
          "base_uri": "https://localhost:8080/"
        },
        "id": "XfWmYmUoLEbr",
        "outputId": "04ec51c5-9eb5-4a5e-b005-27e6899e9e46"
      },
      "execution_count": 18,
      "outputs": [
        {
          "output_type": "stream",
          "name": "stdout",
          "text": [
            "+-----------------------------------------------------------+\n",
            "|standardized                                               |\n",
            "+-----------------------------------------------------------+\n",
            "|[0.5572788241232707,1.8590204479466206,0.09971413970075937]|\n",
            "|[0.9623273639691913,0.23237755599332757,0.1400591231098562]|\n",
            "+-----------------------------------------------------------+\n",
            "only showing top 2 rows\n",
            "\n"
          ]
        }
      ]
    },
    {
      "cell_type": "code",
      "source": [
        "from pyspark.ml.clustering import KMeans\n",
        "from pyspark.ml.evaluation import ClusteringEvaluator\n",
        "import numpy as np\n",
        "\n",
        "cost = np.zeros(10)\n",
        "evaluator = ClusteringEvaluator(predictionCol='prediction', featuresCol='standardized',metricName='silhouette', distanceMeasure='squaredEuclidean')\n",
        "\n",
        "for i in range(2,10):\n",
        "    KMeans_algo=KMeans(featuresCol='standardized', k=i)\n",
        "    KMeans_fit=KMeans_algo.fit(data_scale_output)\n",
        "    output=KMeans_fit.transform(data_scale_output)\n",
        "    cost[i] = KMeans_fit.summary.trainingCost\n",
        "import pandas as pd\n",
        "import pylab as pl\n",
        "df_cost = pd.DataFrame(cost[2:])\n",
        "df_cost.columns = [\"cost\"]\n",
        "new_col = range(2,10)\n",
        "df_cost.insert(0, 'cluster', new_col)\n",
        "pl.plot(df_cost.cluster, df_cost.cost)\n",
        "pl.xlabel('Number of Clusters')\n",
        "pl.ylabel('Score')\n",
        "pl.title('Elbow Curve')\n",
        "pl.show()\n"
      ],
      "metadata": {
        "colab": {
          "base_uri": "https://localhost:8080/",
          "height": 472
        },
        "id": "zYljCempLfiZ",
        "outputId": "f6d281d6-1799-4939-b98d-6f1508c753b7"
      },
      "execution_count": 19,
      "outputs": [
        {
          "output_type": "display_data",
          "data": {
            "text/plain": [
              "<Figure size 640x480 with 1 Axes>"
            ],
            "image/png": "[encoded data removed]"
          },
          "metadata": {}
        }
      ]
    },
    {
      "cell_type": "code",
      "source": [
        "kmeans_algo=KMeans(featuresCol='standardized', k=3)\n",
        "kmeans_fit=kmeans_algo.fit(data_scale_output)\n",
        "preds=kmeans_fit.transform(data_scale_output)\n",
        "preds.show(5)\n",
        "import matplotlib.pyplot as plt\n",
        "import seaborn as sns\n",
        "\n",
        "df_viz = preds.select('recency','frequency','monetary_value','prediction')\n",
        "df_viz = df_viz.toPandas()\n",
        "avg_df = df_viz.groupby(['prediction'], as_index=False).mean()\n",
        "\n",
        "list1 = ['recency','frequency','monetary_value']\n",
        "\n",
        "for i in list1:\n",
        "    sns.barplot(x='prediction',y=str(i),data=avg_df)\n",
        "    plt.show()\n"
      ],
      "metadata": {
        "colab": {
          "base_uri": "https://localhost:8080/",
          "height": 1000
        },
        "id": "LN7YBraZMWpR",
        "outputId": "4d4a3bde-fb3b-4c13-8b13-844e0612bb55"
      },
      "execution_count": 20,
      "outputs": [
        {
          "output_type": "stream",
          "name": "stdout",
          "text": [
            "+--------+---------+------------------+----------+--------------------+--------------------+----------+\n",
            "| recency|frequency|    monetary_value|CustomerID|            features|        standardized|prediction|\n",
            "+--------+---------+------------------+----------+--------------------+--------------------+----------+\n",
            "| 4860540|       72|            278.74|   17786.0|[4860540.0,72.0,2...|[0.55727882412327...|         0|\n",
            "| 8393340|        9| 391.5200000000001|   16917.0|[8393340.0,9.0,39...|[0.96232736396919...|         0|\n",
            "|12715740|       62|            524.52|   15891.0|[1.271574E7,62.0,...|[1.45790645382143...|         0|\n",
            "|15132840|        1|             163.2|   17955.0|[1.513284E7,1.0,1...|[1.73503587684611...|         0|\n",
            "|16242780|        5|103.25000000000001|   14542.0|[1.624278E7,5.0,1...|[1.86229458843934...|         0|\n",
            "+--------+---------+------------------+----------+--------------------+--------------------+----------+\n",
            "only showing top 5 rows\n",
            "\n"
          ]
        },
        {
          "output_type": "display_data",
          "data": {
            "text/plain": [
              "<Figure size 640x480 with 1 Axes>"
            ],
            "image/png": "[encoded data removed]"
          },
          "metadata": {}
        },
        {
          "output_type": "display_data",
          "data": {
            "text/plain": [
              "<Figure size 640x480 with 1 Axes>"
            ],
            "image/png": "[encoded data removed]"
          },
          "metadata": {}
        },
        {
          "output_type": "display_data",
          "data": {
            "text/plain": [
              "<Figure size 640x480 with 1 Axes>"
            ],
            "image/png": "[encoded data removed]"
          },
          "metadata": {}
        }
      ]
    },
    {
      "cell_type": "markdown",
      "source": [
        "Hình vẽ tương đối rõ ràng về các đặc trưng, chúng ta có thể rút ra được một số nhận xét tổng quan như sau:\n",
        "\n",
        "\n",
        "\n",
        "\n",
        "\n",
        "*   Nhóm 0: Nhóm này có tần suất mua hàng tương đối cao, cao trội hơn 3 nhóm còn lại, lần truy cập gần nhất cũng tương đối cao, giá trị tiền mua hàng tương đối nhỏ, cho thấy là một đối tượng đa số là cá nhân, hướng tới các sản phẩm giá rẻ\n",
        "*   Nhóm 1: Nhóm này có cả 3 chỉ số lần truy cập gần nhất, tấn suất mua hàng và tổng tiền mua hàng rất thấp, không có quá nhiều hi vọng là khách hàng tiềm năng, khả năng cao sẽ ngừng mua hàng trong thời gian tới\n",
        "\n",
        "*   Nhóm 2: Tần suất đặt hàng rất ít, tuy nhiên gần đây lại đặt phổ biến, lượng tiền mua hàng cao vượt trội nhiều lần so với các nhóm khác. Nhóm này khả năng là các doanh nghiệp có xu hướng mua các loại hàng có giá trị cao hoặc mua có số lượng lớn\n",
        "*   \n",
        "Nhóm 3: Nhóm này có tổng tiền mua hàng rất thấp, tần suất mua hàng không quá nhiều, và truy cập gần đây tương đối cao. Nhóm này có khả năng mua theo đợt, hoặc là những người mới tham gia sàn thương mại.\n",
        "\n",
        "\n",
        "\n"
      ],
      "metadata": {
        "id": "UE4RQ-hiMjII"
      }
    }
  ]
}